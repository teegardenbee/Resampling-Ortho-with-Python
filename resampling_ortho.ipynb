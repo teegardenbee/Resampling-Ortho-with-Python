{
 "cells": [
  {
   "cell_type": "code",
   "execution_count": 3,
   "id": "f7df86a3-d328-4aae-b88c-0dc7b6372274",
   "metadata": {},
   "outputs": [],
   "source": [
    "from osgeo import gdal\n",
    "import os\n",
    "import warnings"
   ]
  },
  {
   "cell_type": "code",
   "execution_count": 18,
   "id": "6847225d-9fb2-43c3-bec1-1bbd6eb6e8f1",
   "metadata": {},
   "outputs": [
    {
     "name": "stdout",
     "output_type": "stream",
     "text": [
      "GEOGCS[\"WGS 84\",DATUM[\"WGS_1984\",SPHEROID[\"WGS 84\",6378137,298.257223563,AUTHORITY[\"EPSG\",\"7030\"]],AUTHORITY[\"EPSG\",\"6326\"]],PRIMEM[\"Greenwich\",0,AUTHORITY[\"EPSG\",\"8901\"]],UNIT[\"degree\",0.0174532925199433,AUTHORITY[\"EPSG\",\"9122\"]],AXIS[\"Latitude\",NORTH],AXIS[\"Longitude\",EAST],AUTHORITY[\"EPSG\",\"4326\"]] (76.06020565220724, 7.223254660900939e-07, 0.0, 27.517130936229616, 0.0, -7.223254660900939e-07) 5338 13256\n"
     ]
    }
   ],
   "source": [
    "warnings.filterwarnings(\"ignore\", category=FutureWarning)\n",
    "\n",
    "# Explicitly enable GDAL exceptions\n",
    "gdal.UseExceptions()\n",
    "\n",
    "# File paths\n",
    "ortho_path = #path\n",
    "dem_path = #path\n",
    "output_path = #path\n",
    "\n",
    "# Open DEM\n",
    "dem_ds = gdal.Open(dem_path)\n",
    "dem_proj = dem_ds.GetProjection()  # Projection\n",
    "dem_geo = dem_ds.GetGeoTransform()  # Geotransform\n",
    "dem_xsize = dem_ds.RasterXSize  # Width\n",
    "dem_ysize = dem_ds.RasterYSize  # Height\n",
    "print(dem_proj, dem_geo, dem_xsize, dem_ysize)\n",
    "# Open Orthoimage\n",
    "ortho_ds = gdal.Open(ortho_path)"
   ]
  },
  {
   "cell_type": "code",
   "execution_count": 19,
   "id": "9030faaf-6cc4-4af7-b13c-c6761a1b7eb8",
   "metadata": {},
   "outputs": [],
   "source": [
    "# Resample Orthoimage\n",
    "resampled_ortho = gdal.Warp(\n",
    "    output_path,  # Output file path\n",
    "    ortho_ds,     # Input orthoimage\n",
    "    format='GTiff',\n",
    "    width=dem_xsize,        # Match DEM width\n",
    "    height=dem_ysize,       # Match DEM height\n",
    "    dstSRS=dem_proj,        # Match DEM projection\n",
    "    outputBounds=(          # Match DEM extent\n",
    "        dem_geo[0],\n",
    "        dem_geo[3] + dem_ysize * dem_geo[5],\n",
    "        dem_geo[0] + dem_xsize * dem_geo[1],\n",
    "        dem_geo[3],\n",
    "    ),\n",
    "    resampleAlg='cubic'     # Resampling method (e.g., 'cubic', 'bilinear', 'near')\n",
    ")"
   ]
  },
  {
   "cell_type": "code",
   "execution_count": 20,
   "id": "9fcdfea7-b92f-4dbe-bad6-101fa7e761bb",
   "metadata": {},
   "outputs": [
    {
     "name": "stdout",
     "output_type": "stream",
     "text": [
      "Resampled orthoimage saved to: D:\\composite_test\\output\\resampled_ortho.tif\n"
     ]
    }
   ],
   "source": [
    "# Close datasets\n",
    "ortho_ds = None\n",
    "dem_ds = None\n",
    "resampled_ortho = None\n",
    "\n",
    "print(f\"Resampled orthoimage saved to: {output_path}\")"
   ]
  },
  {
   "cell_type": "code",
   "execution_count": null,
   "id": "12945647-04e5-4910-9c0f-dea6af41315d",
   "metadata": {},
   "outputs": [],
   "source": []
  }
 ],
 "metadata": {
  "kernelspec": {
   "display_name": "Python 3 (ipykernel)",
   "language": "python",
   "name": "python3"
  },
  "language_info": {
   "codemirror_mode": {
    "name": "ipython",
    "version": 3
   },
   "file_extension": ".py",
   "mimetype": "text/x-python",
   "name": "python",
   "nbconvert_exporter": "python",
   "pygments_lexer": "ipython3",
   "version": "3.13.1"
  }
 },
 "nbformat": 4,
 "nbformat_minor": 5
}
